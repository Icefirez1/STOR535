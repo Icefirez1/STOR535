{
 "cells": [
  {
   "cell_type": "markdown",
   "id": "a64ea10b",
   "metadata": {},
   "source": [
    "## Generating Continuous Random Variables using SciPy and NumPy\n",
    "\n",
    "In this notebook, we will:\n",
    "\n",
    "- Generate random samples from several continuous distributions:\n",
    "  - **Uniform**\n",
    "  - **Normal**\n",
    "  - **Exponential**\n",
    "  - **Gamma**\n",
    "- Plot their **Probability Density Function (PDF)** and **Cumulative Distribution Function (CDF)**\n",
    "- Discuss and show the theoretical **Moment Generating Functions (MGF)**\n",
    "- Calculate expectations, variances, and higher-order moments.\n",
    "\n",
    "We will use `scipy.stats` for most distributions and `numpy` for sample generation and analysis."
   ]
  },
  {
   "cell_type": "code",
   "execution_count": null,
   "id": "c13652ab",
   "metadata": {},
   "outputs": [],
   "source": [
    "import numpy as np\n",
    "import scipy.stats as stats\n",
    "import matplotlib.pyplot as plt\n",
    "import seaborn as sns\n",
    "%matplotlib inline"
   ]
  },
  {
   "cell_type": "markdown",
   "id": "a5aea9f8",
   "metadata": {},
   "source": [
    "### 1. Uniform Distribution\n",
    "\n",
    "The continuous Uniform distribution over the interval $ [a, b] $ has the PDF:\n",
    "\n",
    "$\n",
    "f(x) = \\frac{1}{b-a}, \\quad a \\le x \\le b\n",
    "$\n",
    "\n",
    "Its moment generating function (MGF) is given by:\n",
    "\n",
    "$\n",
    "M_X(t) = \\frac{e^{bt} - e^{at}}{t(b-a)} \\quad (t \\neq 0, \\; M_X(0)=1)\n",
    "$\n",
    "\n",
    "For this example, we take $a=0$ and $b=1$."
   ]
  },
  {
   "cell_type": "code",
   "execution_count": null,
   "id": "800eeb3f",
   "metadata": {
    "scrolled": true
   },
   "outputs": [],
   "source": [
    "# Parameters\n",
    "a, b = 0, 1\n",
    "\n",
    "# Create a uniform distribution object (scipy uses loc=a and scale=b-a)\n",
    "uniform_dist = stats.uniform(a, b-a)\n",
    "\n",
    "# Generate a sample of 1000 points\n",
    "sample_size = 1000\n",
    "uniform_sample = uniform_dist.rvs(size=sample_size)\n",
    "uniform_sample"
   ]
  },
  {
   "cell_type": "code",
   "execution_count": null,
   "id": "fda493c3",
   "metadata": {},
   "outputs": [],
   "source": [
    "uniform_dist.pdf(0.5)"
   ]
  },
  {
   "cell_type": "code",
   "execution_count": null,
   "id": "4f7de02e",
   "metadata": {},
   "outputs": [],
   "source": [
    "uniform_dist.cdf(0.6)"
   ]
  },
  {
   "cell_type": "code",
   "execution_count": null,
   "id": "e0317498",
   "metadata": {},
   "outputs": [],
   "source": [
    "# Compute theoretical PDF and CDF over a grid\n",
    "x_uniform = np.linspace(a, b, 200)\n",
    "pdf_uniform = uniform_dist.pdf(x_uniform)\n",
    "cdf_uniform = uniform_dist.cdf(x_uniform)"
   ]
  },
  {
   "cell_type": "code",
   "execution_count": null,
   "id": "0599a143",
   "metadata": {},
   "outputs": [],
   "source": [
    "# Plot PDF and CDF\n",
    "fig, ax = plt.subplots(1, 2, figsize=(12, 4))\n",
    "ax[0].plot(x_uniform, pdf_uniform, 'b-', lw=2)\n",
    "ax[0].set_title('Uniform PDF')\n",
    "ax[0].set_xlabel('x')\n",
    "ax[0].set_ylabel('Density')\n",
    "\n",
    "ax[1].plot(x_uniform, cdf_uniform, 'r-', lw=2)\n",
    "ax[1].set_title('Uniform CDF')\n",
    "ax[1].set_xlabel('x')\n",
    "ax[1].set_ylabel('Cumulative Probability')\n",
    "\n",
    "plt.tight_layout()\n",
    "plt.show()"
   ]
  },
  {
   "cell_type": "code",
   "execution_count": null,
   "id": "cfb4f175",
   "metadata": {},
   "outputs": [],
   "source": [
    "# Theoretical mean and variance\n",
    "mean_uniform = uniform_dist.mean()\n",
    "var_uniform = uniform_dist.var()\n",
    "print(\"Uniform Mean (theoretical):\", mean_uniform)\n",
    "print(\"Uniform Variance (theoretical):\", var_uniform)"
   ]
  },
  {
   "cell_type": "markdown",
   "id": "a5844307",
   "metadata": {},
   "source": [
    "### 2. Normal Distribution\n",
    "\n",
    "The Normal (Gaussian) distribution with mean $\\mu$ and standard deviation $\\sigma$ has the PDF:\n",
    "\n",
    "$\n",
    "f(x) = \\frac{1}{\\sqrt{2\\pi\\sigma^2}} \\exp\\left(-\\frac{(x-\\mu)^2}{2\\sigma^2}\\right)\n",
    "$\n",
    "\n",
    "Its MGF is:\n",
    "\n",
    "$\n",
    "M_X(t) = \\exp\\left(\\mu t + \\frac{\\sigma^2 t^2}{2}\\right)\n",
    "$\n",
    "\n",
    "For this example, we use the standard normal distribution ($\\mu=0$, $\\sigma=1$)."
   ]
  },
  {
   "cell_type": "code",
   "execution_count": null,
   "id": "620db3ef",
   "metadata": {},
   "outputs": [],
   "source": [
    "mu, sigma = -5, 1\n",
    "normal_dist = stats.norm(mu, sigma)\n",
    "\n",
    "# Generate a sample\n",
    "normal_sample = normal_dist.rvs(size=sample_size)"
   ]
  },
  {
   "cell_type": "code",
   "execution_count": null,
   "id": "28b0375f",
   "metadata": {
    "scrolled": true
   },
   "outputs": [],
   "source": [
    "normal_sample"
   ]
  },
  {
   "cell_type": "code",
   "execution_count": null,
   "id": "6790c116",
   "metadata": {},
   "outputs": [],
   "source": [
    "normal_dist.pdf(-5)"
   ]
  },
  {
   "cell_type": "code",
   "execution_count": null,
   "id": "6c92ea28",
   "metadata": {},
   "outputs": [],
   "source": [
    "normal_dist.cdf(-5 - sigma)"
   ]
  },
  {
   "cell_type": "code",
   "execution_count": null,
   "id": "a69ecbde",
   "metadata": {},
   "outputs": [],
   "source": [
    "normal_dist.cdf(-5 - sigma*3)"
   ]
  },
  {
   "cell_type": "code",
   "execution_count": null,
   "id": "1795b9fa",
   "metadata": {},
   "outputs": [],
   "source": [
    "normal_dist.ppf([0.005,0.995])"
   ]
  },
  {
   "cell_type": "code",
   "execution_count": null,
   "id": "8087dd28",
   "metadata": {},
   "outputs": [],
   "source": [
    "x_normal = np.linspace(mu - 4*sigma, mu + 4*sigma, 200)\n",
    "pdf_normal = normal_dist.pdf(x_normal)\n",
    "cdf_normal = normal_dist.cdf(x_normal)"
   ]
  },
  {
   "cell_type": "code",
   "execution_count": null,
   "id": "2f21a087",
   "metadata": {},
   "outputs": [],
   "source": [
    "fig, ax = plt.subplots(1, 2, figsize=(12, 4))\n",
    "ax[0].plot(x_normal, pdf_normal, 'b-', lw=2)\n",
    "ax[0].set_title('Normal PDF')\n",
    "ax[0].set_xlabel('x')\n",
    "ax[0].set_ylabel('Density')\n",
    "\n",
    "ax[1].plot(x_normal, cdf_normal, 'r-', lw=2)\n",
    "ax[1].set_title('Normal CDF')\n",
    "ax[1].set_xlabel('x')\n",
    "ax[1].set_ylabel('Cumulative Probability')\n",
    "\n",
    "plt.tight_layout()\n",
    "plt.show()\n"
   ]
  },
  {
   "cell_type": "code",
   "execution_count": null,
   "id": "42668811",
   "metadata": {},
   "outputs": [],
   "source": [
    "# Theoretical mean and variance\n",
    "mean_normal = normal_dist.mean()\n",
    "var_normal = normal_dist.var()\n",
    "print(\"Normal Mean (theoretical):\", mean_normal)\n",
    "print(\"Normal Variance (theoretical):\", var_normal)"
   ]
  },
  {
   "cell_type": "markdown",
   "id": "9a637c51",
   "metadata": {},
   "source": [
    "### 3. Exponential Distribution\n",
    "\n",
    "The Exponential distribution (often used to model waiting times) with rate parameter $\\lambda$ (or scale $\\theta=1/\\lambda$) has the PDF:\n",
    "\n",
    "$\n",
    "f(x) = \\lambda e^{-\\lambda x}, \\quad x \\ge 0\n",
    "$\n",
    "\n",
    "Its MGF is:\n",
    "\n",
    "$\n",
    "M_X(t) = \\frac{\\lambda}{\\lambda - t}, \\quad t < \\lambda\n",
    "$\n",
    "\n",
    "For this example, let $\\lambda = 1$ (i.e. $\\theta = 1$)."
   ]
  },
  {
   "cell_type": "code",
   "execution_count": null,
   "id": "2eb5d250",
   "metadata": {},
   "outputs": [],
   "source": [
    "# Parameters\n",
    "lambda_exp = 1\n",
    "expon_dist = stats.expon(scale=1/lambda_exp)  # scale = 1/lambda\n",
    "\n",
    "# Generate a sample\n",
    "expon_sample = expon_dist.rvs(size=sample_size)"
   ]
  },
  {
   "cell_type": "code",
   "execution_count": null,
   "id": "9c855204",
   "metadata": {},
   "outputs": [],
   "source": [
    "expon_sample"
   ]
  },
  {
   "cell_type": "code",
   "execution_count": null,
   "id": "622f2e92",
   "metadata": {},
   "outputs": [],
   "source": [
    "# Compute PDF and CDF\n",
    "expon_dist.pdf(-2)"
   ]
  },
  {
   "cell_type": "code",
   "execution_count": null,
   "id": "ce2ad535",
   "metadata": {},
   "outputs": [],
   "source": [
    "cdf_expon = expon_dist.cdf(0)"
   ]
  },
  {
   "cell_type": "code",
   "execution_count": null,
   "id": "139e0a37",
   "metadata": {},
   "outputs": [],
   "source": [
    "# Compute PDF and CDF\n",
    "x_expon = np.linspace(0, 8, 200)\n",
    "pdf_expon = expon_dist.pdf(x_expon)\n",
    "cdf_expon = expon_dist.cdf(x_expon)"
   ]
  },
  {
   "cell_type": "code",
   "execution_count": null,
   "id": "58117b9c",
   "metadata": {},
   "outputs": [],
   "source": [
    "fig, ax = plt.subplots(1, 2, figsize=(12, 4))\n",
    "ax[0].plot(x_expon, pdf_expon, 'b-', lw=2)\n",
    "ax[0].set_title('Exponential PDF')\n",
    "ax[0].set_xlabel('x')\n",
    "ax[0].set_ylabel('Density')\n",
    "\n",
    "ax[1].plot(x_expon, cdf_expon, 'r-', lw=2)\n",
    "ax[1].set_title('Exponential CDF')\n",
    "ax[1].set_xlabel('x')\n",
    "ax[1].set_ylabel('Cumulative Probability')\n",
    "\n",
    "plt.tight_layout()\n",
    "plt.show()"
   ]
  },
  {
   "cell_type": "markdown",
   "id": "5a47cc2e",
   "metadata": {},
   "source": [
    "### 4. Gamma Distribution\n",
    "\n",
    "The Gamma distribution is defined by a shape parameter $k$ (or $\\alpha$) and a scale parameter $\\theta$. Its PDF is:\n",
    "\n",
    "$\n",
    "f(x) = \\frac{x^{k-1} e^{-x/\\theta}}{\\theta^k \\Gamma(k)}, \\quad x \\ge 0\n",
    "$\n",
    "\n",
    "The MGF is given by:\n",
    "\n",
    "$\n",
    "M_X(t) = (1 - \\theta t)^{-k}, \\quad t < \\frac{1}{\\theta}\n",
    "$\n",
    "\n",
    "For this example, let $ k=2 $ and $ \\theta=2 $."
   ]
  },
  {
   "cell_type": "code",
   "execution_count": null,
   "id": "42b908e0",
   "metadata": {},
   "outputs": [],
   "source": [
    "# Parameters\n",
    "k, llambda = 2, 2\n",
    "gamma_dist = stats.gamma(a=k, scale=1/llambda)"
   ]
  },
  {
   "cell_type": "code",
   "execution_count": null,
   "id": "f6acc25c",
   "metadata": {},
   "outputs": [],
   "source": [
    "# Generate a sample\n",
    "gamma_sample = gamma_dist.rvs(size=sample_size)"
   ]
  },
  {
   "cell_type": "code",
   "execution_count": null,
   "id": "efc33c2f",
   "metadata": {},
   "outputs": [],
   "source": [
    "gamma_dist.ppf([0,0.9])"
   ]
  },
  {
   "cell_type": "code",
   "execution_count": null,
   "id": "0bc15676",
   "metadata": {},
   "outputs": [],
   "source": [
    "x_gamma = np.linspace(0, 20, 200)\n",
    "pdf_gamma = gamma_dist.pdf(x_gamma)\n",
    "cdf_gamma = gamma_dist.cdf(x_gamma)"
   ]
  },
  {
   "cell_type": "code",
   "execution_count": null,
   "id": "60d4d10e",
   "metadata": {},
   "outputs": [],
   "source": [
    "fig, ax = plt.subplots(1, 2, figsize=(12, 4))\n",
    "ax[0].plot(x_gamma, pdf_gamma, 'b-', lw=2)\n",
    "ax[0].set_title('Gamma PDF')\n",
    "ax[0].set_xlabel('x')\n",
    "ax[0].set_ylabel('Density')\n",
    "\n",
    "ax[1].plot(x_gamma, cdf_gamma, 'r-', lw=2)\n",
    "ax[1].set_title('Gamma CDF')\n",
    "ax[1].set_xlabel('x')\n",
    "ax[1].set_ylabel('Cumulative Probability')\n",
    "\n",
    "plt.tight_layout()\n",
    "plt.show()"
   ]
  },
  {
   "cell_type": "code",
   "execution_count": null,
   "id": "fb9a9d92",
   "metadata": {},
   "outputs": [],
   "source": [
    "# Theoretical mean and variance\n",
    "mean_gamma = gamma_dist.mean()\n",
    "var_gamma = gamma_dist.var()\n",
    "print(\"Gamma Mean (theoretical):\", mean_gamma)\n",
    "print(\"Gamma Variance (theoretical):\", var_gamma)\n"
   ]
  },
  {
   "cell_type": "markdown",
   "id": "15f080ad",
   "metadata": {},
   "source": [
    "#### Create a density plot for the empirical Gamma distribution with parameter (2.5, 3) with 1000 samples"
   ]
  },
  {
   "cell_type": "code",
   "execution_count": null,
   "id": "1c7813d3",
   "metadata": {},
   "outputs": [],
   "source": [
    "gamma_sample = gamma_dist.rvs(size=1000)"
   ]
  },
  {
   "cell_type": "code",
   "execution_count": null,
   "id": "a98f8032",
   "metadata": {},
   "outputs": [],
   "source": [
    "# Plot the density plot (KDE)\n",
    "plt.figure(figsize=(8, 5))\n",
    "sns.kdeplot(gamma_sample)\n",
    "plt.title('Density Plot of Gamma Distribution Sample')\n",
    "plt.xlabel('Value')\n",
    "plt.ylabel('Density')\n",
    "plt.grid(True)\n",
    "plt.tight_layout()\n",
    "plt.show()"
   ]
  },
  {
   "cell_type": "code",
   "execution_count": null,
   "id": "6ff53b94",
   "metadata": {},
   "outputs": [],
   "source": [
    "# Plot histogram with frequency (not density)\n",
    "plt.figure(figsize=(8, 5))\n",
    "plt.hist(gamma_sample, bins=30, edgecolor='black')\n",
    "plt.title('Histogram of Gamma Sample (Frequency)')\n",
    "plt.xlabel('Value')\n",
    "plt.ylabel('Frequency')\n",
    "plt.grid(True)\n",
    "plt.tight_layout()\n",
    "plt.show()"
   ]
  },
  {
   "cell_type": "code",
   "execution_count": null,
   "id": "6225d44e",
   "metadata": {},
   "outputs": [],
   "source": [
    "# Exercise: What is the best value for the number of bins?"
   ]
  },
  {
   "cell_type": "code",
   "execution_count": null,
   "id": "e1c2a445",
   "metadata": {},
   "outputs": [],
   "source": []
  },
  {
   "cell_type": "code",
   "execution_count": null,
   "id": "003ac6cd",
   "metadata": {},
   "outputs": [],
   "source": [
    "# Exercise: Create a density plot for the empirical lognormal distribution with parameter (0, 1) with 1000 samples.\n",
    "# Compare it with normal distribution."
   ]
  },
  {
   "cell_type": "code",
   "execution_count": null,
   "id": "86d5e8d2",
   "metadata": {},
   "outputs": [],
   "source": []
  },
  {
   "cell_type": "code",
   "execution_count": null,
   "id": "43fbbf61",
   "metadata": {},
   "outputs": [],
   "source": []
  },
  {
   "cell_type": "markdown",
   "id": "854bdd04",
   "metadata": {},
   "source": [
    "## Universality with Logistic\n",
    "\n",
    "For $U \\sim Unif(0, 1)$, the r.v.  $log\\left(\\frac{U}{1−U}\\right)$ follows a Logistic distribution. In SciPy and `uniform.rvs`, we can simply generate a large number of $Unif(0, 1)$ realizations and transform them."
   ]
  },
  {
   "cell_type": "code",
   "execution_count": null,
   "id": "8fd9c170",
   "metadata": {},
   "outputs": [],
   "source": [
    "from scipy.stats import uniform\n",
    "u = uniform.rvs(size=10**4)\n",
    "x = np.log(u/(1-u))\n",
    "x"
   ]
  },
  {
   "cell_type": "markdown",
   "id": "d3d19705",
   "metadata": {},
   "source": [
    "Now `x` contains 10<sup>4</sup> realizations from the distribution of $log\\left(\\frac{U}{1−U}\\right)$. We can visualize them with a histogram, using [`matplotlib.hist`](https://matplotlib.org/api/_as_gen/matplotlib.pyplot.hist.html). The histogram resembles a Logistic PDF, which is reassuring. To control how fine-grained the histogram is, we can set the number of bins in the histogram via the `bins` parameter (the 2nd parameter passed into `pyplot.hist`: `hist(x, 100)` produces a finer histogram, while `hist(x, 10)` produces a coarser histogram.\n",
    "\n",
    "To illustrate, we will generate two graphs side-by-side with [`pyplot.figure`](https://matplotlib.org/api/_as_gen/matplotlib.pyplot.figure.html), and use a [`pyplot.subplot`](https://matplotlib.org/api/_as_gen/matplotlib.pyplot.subplot.html) for each graph."
   ]
  },
  {
   "cell_type": "code",
   "execution_count": null,
   "id": "9d4da044",
   "metadata": {},
   "outputs": [],
   "source": [
    "fig = plt.figure(figsize=(14, 6))\n",
    "\n",
    "ax1 = fig.add_subplot(121)\n",
    "ax1.hist(x, 100)\n",
    "ax1.set_title('bins=100')\n",
    "\n",
    "ax2 = fig.add_subplot(122)\n",
    "ax2.hist(x, 10)\n",
    "ax2.set_title('bins=10')\n",
    "\n",
    "plt.show()"
   ]
  },
  {
   "cell_type": "markdown",
   "id": "16df4944",
   "metadata": {},
   "source": [
    "#### Create the CDF for the data in x"
   ]
  },
  {
   "cell_type": "code",
   "execution_count": null,
   "id": "f385ead4",
   "metadata": {},
   "outputs": [],
   "source": [
    "# Sort the data\n",
    "x_sorted = np.sort(x)\n",
    "y = np.arange(1, len(x_sorted) + 1) / len(x_sorted)\n",
    "\n",
    "# Plot CDF\n",
    "plt.figure(figsize=(8, 6))\n",
    "plt.plot(x_sorted, y, marker='.', linestyle='none')\n",
    "plt.title('Empirical CDF of x')\n",
    "plt.xlabel('x')\n",
    "plt.ylabel('CDF')\n",
    "plt.grid(True)\n",
    "plt.show()"
   ]
  },
  {
   "cell_type": "markdown",
   "id": "8ecbfa98",
   "metadata": {},
   "source": [
    "## Poisson process simulation\n",
    "\n",
    "To simulate $n$ arrivals in a Poisson process with rate $\\lambda$, we first generate the interarrival times as i.i.d. Exponentials and store them in variable `x`:"
   ]
  },
  {
   "cell_type": "code",
   "execution_count": null,
   "id": "b0c11f92",
   "metadata": {},
   "outputs": [],
   "source": [
    "n = 50\n",
    "lambd = 10\n",
    "x = stats.expon.rvs(scale=1/lambd, size=n)\n",
    "print(x)"
   ]
  },
  {
   "cell_type": "markdown",
   "id": "4897724d",
   "metadata": {},
   "source": [
    "Then we convert the interarrival times into arrival times using the [`numpy.cumsum`](https://docs.scipy.org/doc/numpy-1.15.0/reference/generated/numpy.cumsum.html) function, which stands for \"cumulative sum\"."
   ]
  },
  {
   "cell_type": "code",
   "execution_count": null,
   "id": "75501a21",
   "metadata": {},
   "outputs": [],
   "source": [
    "t = np.cumsum(x)\n",
    "print(t)"
   ]
  },
  {
   "cell_type": "markdown",
   "id": "73286b3f",
   "metadata": {},
   "source": [
    "The array `t` now contains all the simulated arrival times."
   ]
  },
  {
   "cell_type": "code",
   "execution_count": null,
   "id": "9dcb09e2",
   "metadata": {},
   "outputs": [],
   "source": []
  },
  {
   "cell_type": "markdown",
   "id": "790451f5",
   "metadata": {},
   "source": [
    "## Use SimPy for symbolic math expressions"
   ]
  },
  {
   "cell_type": "code",
   "execution_count": 1,
   "id": "68fe0baf",
   "metadata": {},
   "outputs": [
    {
     "data": {
      "text/latex": [
       "$\\displaystyle \\frac{\\sqrt{2} e^{- \\frac{X^{2}}{2}}}{2 \\sqrt{\\pi}}$"
      ],
      "text/plain": [
       "sqrt(2)*exp(-X**2/2)/(2*sqrt(pi))"
      ]
     },
     "execution_count": 1,
     "metadata": {},
     "output_type": "execute_result"
    }
   ],
   "source": [
    "from sympy import symbols\n",
    "from sympy.stats import Normal, density, cdf\n",
    "\n",
    "# Define the random variable\n",
    "X = Normal('X', 0, 1)\n",
    "\n",
    "# Compute the Probability Density Function (PDF)\n",
    "pdf_X = density(X)(X)\n",
    "pdf_X"
   ]
  },
  {
   "cell_type": "code",
   "execution_count": 2,
   "id": "182d60ab",
   "metadata": {},
   "outputs": [
    {
     "data": {
      "text/latex": [
       "$\\displaystyle \\frac{\\operatorname{erf}{\\left(\\frac{\\sqrt{2} X}{2} \\right)}}{2} + \\frac{1}{2}$"
      ],
      "text/plain": [
       "erf(sqrt(2)*X/2)/2 + 1/2"
      ]
     },
     "execution_count": 2,
     "metadata": {},
     "output_type": "execute_result"
    }
   ],
   "source": [
    "# Compute the Cumulative Distribution Function (CDF)\n",
    "cdf_X = cdf(X)(X)\n",
    "cdf_X"
   ]
  },
  {
   "cell_type": "markdown",
   "id": "e93720a6",
   "metadata": {},
   "source": [
    "ERF fucntion:\n",
    "\n",
    "$erf(z) = \\frac{2}{\\sqrt\\pi}\\int_0^z e^{-t^2}\\,\\mathrm dt$"
   ]
  },
  {
   "cell_type": "code",
   "execution_count": 4,
   "id": "8da9c391",
   "metadata": {},
   "outputs": [],
   "source": [
    "cdf??"
   ]
  },
  {
   "cell_type": "code",
   "execution_count": null,
   "id": "0d193616",
   "metadata": {},
   "outputs": [],
   "source": [
    "cdf(X)(0.5)"
   ]
  },
  {
   "cell_type": "code",
   "execution_count": null,
   "id": "82b7669c",
   "metadata": {},
   "outputs": [],
   "source": [
    "density(X)(0)"
   ]
  },
  {
   "cell_type": "code",
   "execution_count": null,
   "id": "6b9f81d2",
   "metadata": {},
   "outputs": [],
   "source": [
    "density(X)(X+9)"
   ]
  },
  {
   "cell_type": "code",
   "execution_count": null,
   "id": "30407145",
   "metadata": {},
   "outputs": [],
   "source": []
  },
  {
   "cell_type": "code",
   "execution_count": null,
   "id": "da152975",
   "metadata": {},
   "outputs": [],
   "source": [
    "from sympy.stats import E\n",
    "\n",
    "# Calculate the expectation of X\n",
    "expectation_X = E(X)\n",
    "expectation_X"
   ]
  },
  {
   "cell_type": "code",
   "execution_count": null,
   "id": "53513b09",
   "metadata": {},
   "outputs": [],
   "source": [
    "from sympy.stats import P\n",
    "P(X>1)"
   ]
  },
  {
   "cell_type": "code",
   "execution_count": null,
   "id": "320e93a6",
   "metadata": {},
   "outputs": [],
   "source": [
    "from sympy import symbols\n",
    "from sympy.stats import Uniform, density, cdf, E, variance"
   ]
  },
  {
   "cell_type": "code",
   "execution_count": null,
   "id": "b2fdd7df",
   "metadata": {},
   "outputs": [],
   "source": [
    "density(X)(X)"
   ]
  },
  {
   "cell_type": "code",
   "execution_count": null,
   "id": "0997099a",
   "metadata": {},
   "outputs": [],
   "source": [
    "cdf(X)(X)"
   ]
  },
  {
   "cell_type": "code",
   "execution_count": null,
   "id": "ab3dfe83",
   "metadata": {},
   "outputs": [],
   "source": [
    "E(X)"
   ]
  },
  {
   "cell_type": "code",
   "execution_count": null,
   "id": "68721ac7",
   "metadata": {},
   "outputs": [],
   "source": [
    "variance(X)"
   ]
  },
  {
   "cell_type": "code",
   "execution_count": null,
   "id": "f2cafaaf",
   "metadata": {},
   "outputs": [],
   "source": [
    "from sympy import symbols\n",
    "from sympy.stats import Exponential, density, cdf, E, variance\n",
    "\n",
    "# Define the rate parameter\n",
    "lambda_ = 3\n",
    "\n",
    "# Define the exponential random variable\n",
    "Y = Exponential('Y', lambda_)"
   ]
  },
  {
   "cell_type": "code",
   "execution_count": null,
   "id": "4b4c2d5c",
   "metadata": {},
   "outputs": [],
   "source": [
    "density(Y)(Y)"
   ]
  },
  {
   "cell_type": "code",
   "execution_count": null,
   "id": "9a3f7b7d",
   "metadata": {},
   "outputs": [],
   "source": [
    "cdf(Y)(Y)"
   ]
  },
  {
   "cell_type": "code",
   "execution_count": null,
   "id": "7bc2a4c0",
   "metadata": {},
   "outputs": [],
   "source": [
    "E(Y)"
   ]
  },
  {
   "cell_type": "code",
   "execution_count": null,
   "id": "f0614afb",
   "metadata": {},
   "outputs": [],
   "source": [
    "variance(Y)"
   ]
  },
  {
   "cell_type": "code",
   "execution_count": null,
   "id": "d5e22b00",
   "metadata": {},
   "outputs": [],
   "source": [
    "# Execrise: Calculate the probability that Y is larger than 4."
   ]
  },
  {
   "cell_type": "code",
   "execution_count": null,
   "id": "ef2adda6",
   "metadata": {},
   "outputs": [],
   "source": []
  },
  {
   "cell_type": "code",
   "execution_count": null,
   "id": "a0111ddd",
   "metadata": {},
   "outputs": [],
   "source": [
    "from sympy import symbols\n",
    "from sympy.stats import Gamma, density, cdf, E, variance\n",
    "\n",
    "# Define the shape and rate parameters\n",
    "k, theta = 3, 2\n",
    "\n",
    "# Define the gamma random variable\n",
    "W = Gamma('W', k, theta)"
   ]
  },
  {
   "cell_type": "code",
   "execution_count": null,
   "id": "e9f272e1",
   "metadata": {},
   "outputs": [],
   "source": [
    "variance(W)"
   ]
  },
  {
   "cell_type": "code",
   "execution_count": null,
   "id": "60d43285",
   "metadata": {},
   "outputs": [],
   "source": [
    "density(W)(W)"
   ]
  },
  {
   "cell_type": "code",
   "execution_count": null,
   "id": "9b8b2440",
   "metadata": {},
   "outputs": [],
   "source": [
    "cdf(W)(W)"
   ]
  },
  {
   "cell_type": "code",
   "execution_count": null,
   "id": "6c12d423",
   "metadata": {},
   "outputs": [],
   "source": [
    "E(W)"
   ]
  },
  {
   "cell_type": "code",
   "execution_count": null,
   "id": "328898dd",
   "metadata": {},
   "outputs": [],
   "source": [
    "## Keep the parameter lambda in symbolic forms"
   ]
  },
  {
   "cell_type": "code",
   "execution_count": null,
   "id": "2b929388",
   "metadata": {},
   "outputs": [],
   "source": [
    "from sympy import symbols\n",
    "from sympy.stats import Gamma, density, E, variance, cdf\n",
    "\n",
    "# Define symbolic lambda\n",
    "lam = symbols('lambda', positive=True)\n",
    "\n",
    "# Define the gamma random variable: shape = 3, rate = lambda\n",
    "X = Gamma('X', 3, 1/lam)\n"
   ]
  },
  {
   "cell_type": "code",
   "execution_count": null,
   "id": "bbea987c",
   "metadata": {},
   "outputs": [],
   "source": [
    "density(X)(X)"
   ]
  },
  {
   "cell_type": "code",
   "execution_count": null,
   "id": "a747e5b2",
   "metadata": {},
   "outputs": [],
   "source": [
    "E(X)"
   ]
  },
  {
   "cell_type": "code",
   "execution_count": null,
   "id": "923e9d0d",
   "metadata": {},
   "outputs": [],
   "source": [
    "variance(X)"
   ]
  },
  {
   "cell_type": "code",
   "execution_count": null,
   "id": "7aa0c737",
   "metadata": {},
   "outputs": [],
   "source": [
    "# Execrise: Calculate the probability that Gamma(3, lambda) is larger than 5, as a function of lambda"
   ]
  },
  {
   "cell_type": "code",
   "execution_count": null,
   "id": "e81ed855",
   "metadata": {},
   "outputs": [],
   "source": []
  },
  {
   "cell_type": "code",
   "execution_count": null,
   "id": "0d168fce",
   "metadata": {},
   "outputs": [],
   "source": [
    "# Execrise: Derive the density function for lognormal distribution with parameter mu and sigma^2"
   ]
  },
  {
   "cell_type": "code",
   "execution_count": null,
   "id": "4042f4a8",
   "metadata": {},
   "outputs": [],
   "source": []
  },
  {
   "cell_type": "code",
   "execution_count": null,
   "id": "573293eb",
   "metadata": {},
   "outputs": [],
   "source": [
    "# integration and differentiation"
   ]
  },
  {
   "cell_type": "code",
   "execution_count": 8,
   "id": "5bba72b0",
   "metadata": {},
   "outputs": [
    {
     "data": {
      "text/latex": [
       "$\\displaystyle x \\sin{\\left(y \\right)} + \\frac{e^{3 x}}{3}$"
      ],
      "text/plain": [
       "x*sin(y) + exp(3*x)/3"
      ]
     },
     "execution_count": 8,
     "metadata": {},
     "output_type": "execute_result"
    }
   ],
   "source": [
    "from sympy import symbols, integrate, exp, sin\n",
    "x, y = symbols('x y')\n",
    "\n",
    "# Integrate e^x with respect to x\n",
    "integrate(exp(3*x) + sin(y), x)"
   ]
  },
  {
   "cell_type": "code",
   "execution_count": 9,
   "id": "06b574f0",
   "metadata": {},
   "outputs": [
    {
     "data": {
      "text/latex": [
       "$\\displaystyle y e^{3 x} - \\cos{\\left(y \\right)}$"
      ],
      "text/plain": [
       "y*exp(3*x) - cos(y)"
      ]
     },
     "execution_count": 9,
     "metadata": {},
     "output_type": "execute_result"
    }
   ],
   "source": [
    "integrate(exp(3*x) + sin(y), y)"
   ]
  },
  {
   "cell_type": "code",
   "execution_count": 10,
   "id": "b2efd5b9",
   "metadata": {},
   "outputs": [
    {
     "data": {
      "text/latex": [
       "$\\displaystyle 3 e^{3 x}$"
      ],
      "text/plain": [
       "3*exp(3*x)"
      ]
     },
     "execution_count": 10,
     "metadata": {},
     "output_type": "execute_result"
    }
   ],
   "source": [
    "from sympy import diff\n",
    "\n",
    "x, y = symbols('x y')\n",
    "\n",
    "# Integrate e^x with respect to x\n",
    "diff(exp(3*x) + sin(y), x)"
   ]
  },
  {
   "cell_type": "code",
   "execution_count": null,
   "id": "f07fa51c",
   "metadata": {},
   "outputs": [],
   "source": []
  },
  {
   "cell_type": "code",
   "execution_count": null,
   "id": "4976b18f",
   "metadata": {},
   "outputs": [],
   "source": []
  },
  {
   "cell_type": "code",
   "execution_count": null,
   "id": "c187234a",
   "metadata": {},
   "outputs": [],
   "source": [
    "# Execrise: Use integration to calculate the CDF function of exponential distribution with parameter 5"
   ]
  },
  {
   "cell_type": "code",
   "execution_count": null,
   "id": "64ca58cb",
   "metadata": {},
   "outputs": [],
   "source": []
  }
 ],
 "metadata": {
  "hide_input": false,
  "kernelspec": {
   "display_name": "Python 3 (ipykernel)",
   "language": "python",
   "name": "python3"
  },
  "language_info": {
   "codemirror_mode": {
    "name": "ipython",
    "version": 3
   },
   "file_extension": ".py",
   "mimetype": "text/x-python",
   "name": "python",
   "nbconvert_exporter": "python",
   "pygments_lexer": "ipython3",
   "version": "3.11.4"
  }
 },
 "nbformat": 4,
 "nbformat_minor": 5
}
