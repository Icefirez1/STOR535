{
 "cells": [
  {
   "cell_type": "code",
   "execution_count": 39,
   "metadata": {},
   "outputs": [],
   "source": [
    "import pandas as pd \n",
    "import numpy as np \n"
   ]
  },
  {
   "cell_type": "code",
   "execution_count": 40,
   "metadata": {},
   "outputs": [],
   "source": [
    "df = pd.read_csv(\"KSM X VSA VB ROUNDABOUT COLLAB - Form Responses 1.csv\")"
   ]
  },
  {
   "cell_type": "code",
   "execution_count": 41,
   "metadata": {},
   "outputs": [],
   "source": [
    "players = df[\"What is your name\"].dropna().to_list()\n",
    "players.append(\"Missing Person\")\n",
    "np.random.shuffle(players)\n",
    "teams = [players[i:i + 6] for i in range(0, len(players), 6)]\n",
    "\n"
   ]
  },
  {
   "cell_type": "code",
   "execution_count": 42,
   "metadata": {},
   "outputs": [],
   "source": [
    "outteams = pd.DataFrame() \n",
    "for i in range(len(teams)):\n",
    "    teamname = \"Team \" + str(i +1)\n",
    "    outteams[teamname] = teams[i]"
   ]
  },
  {
   "cell_type": "code",
   "execution_count": 43,
   "metadata": {},
   "outputs": [
    {
     "data": {
      "text/html": [
       "<div>\n",
       "<style scoped>\n",
       "    .dataframe tbody tr th:only-of-type {\n",
       "        vertical-align: middle;\n",
       "    }\n",
       "\n",
       "    .dataframe tbody tr th {\n",
       "        vertical-align: top;\n",
       "    }\n",
       "\n",
       "    .dataframe thead th {\n",
       "        text-align: right;\n",
       "    }\n",
       "</style>\n",
       "<table border=\"1\" class=\"dataframe\">\n",
       "  <thead>\n",
       "    <tr style=\"text-align: right;\">\n",
       "      <th></th>\n",
       "      <th>Team 1</th>\n",
       "      <th>Team 2</th>\n",
       "      <th>Team 3</th>\n",
       "      <th>Team 4</th>\n",
       "      <th>Team 5</th>\n",
       "      <th>Team 6</th>\n",
       "    </tr>\n",
       "  </thead>\n",
       "  <tbody>\n",
       "    <tr>\n",
       "      <th>0</th>\n",
       "      <td>Daniel Odulio</td>\n",
       "      <td>Paris Ar</td>\n",
       "      <td>Brian Ngo</td>\n",
       "      <td>Aryan</td>\n",
       "      <td>MJ Lequin</td>\n",
       "      <td>Cyrus Jahromi</td>\n",
       "    </tr>\n",
       "    <tr>\n",
       "      <th>1</th>\n",
       "      <td>SarahAnn Bu</td>\n",
       "      <td>Logan Gallagher</td>\n",
       "      <td>Tri nguyen</td>\n",
       "      <td>Michelle Cruzat</td>\n",
       "      <td>Daniel Cao</td>\n",
       "      <td>Elaine De Jesus</td>\n",
       "    </tr>\n",
       "    <tr>\n",
       "      <th>2</th>\n",
       "      <td>Jerson Tiangson</td>\n",
       "      <td>Joy Juang</td>\n",
       "      <td>Truongan Nguyen</td>\n",
       "      <td>Nate Lai-Quong</td>\n",
       "      <td>Missing Person</td>\n",
       "      <td>Edward Kim</td>\n",
       "    </tr>\n",
       "    <tr>\n",
       "      <th>3</th>\n",
       "      <td>Preston Luong</td>\n",
       "      <td>Josh Gonzales Barrios</td>\n",
       "      <td>Christina Do</td>\n",
       "      <td>Sofia Domenech</td>\n",
       "      <td>Simon Yang</td>\n",
       "      <td>Benjamin Lin</td>\n",
       "    </tr>\n",
       "    <tr>\n",
       "      <th>4</th>\n",
       "      <td>Earl Lequin</td>\n",
       "      <td>Dylan Le</td>\n",
       "      <td>Asa Huang</td>\n",
       "      <td>Rielee Yava</td>\n",
       "      <td>Al Pagar</td>\n",
       "      <td>Francis Legarde</td>\n",
       "    </tr>\n",
       "    <tr>\n",
       "      <th>5</th>\n",
       "      <td>Aiah Bayna</td>\n",
       "      <td>Leon Tran</td>\n",
       "      <td>Kaw Bu</td>\n",
       "      <td>Austin Vu</td>\n",
       "      <td>Nicole Cui</td>\n",
       "      <td>Beatrice Sangangbayan</td>\n",
       "    </tr>\n",
       "  </tbody>\n",
       "</table>\n",
       "</div>"
      ],
      "text/plain": [
       "            Team 1                 Team 2           Team 3           Team 4  \\\n",
       "0    Daniel Odulio               Paris Ar        Brian Ngo            Aryan   \n",
       "1      SarahAnn Bu        Logan Gallagher       Tri nguyen  Michelle Cruzat   \n",
       "2  Jerson Tiangson              Joy Juang  Truongan Nguyen   Nate Lai-Quong   \n",
       "3    Preston Luong  Josh Gonzales Barrios     Christina Do   Sofia Domenech   \n",
       "4      Earl Lequin               Dylan Le        Asa Huang      Rielee Yava   \n",
       "5       Aiah Bayna              Leon Tran           Kaw Bu        Austin Vu   \n",
       "\n",
       "           Team 5                 Team 6  \n",
       "0       MJ Lequin          Cyrus Jahromi  \n",
       "1      Daniel Cao        Elaine De Jesus  \n",
       "2  Missing Person             Edward Kim  \n",
       "3      Simon Yang           Benjamin Lin  \n",
       "4        Al Pagar        Francis Legarde  \n",
       "5      Nicole Cui  Beatrice Sangangbayan  "
      ]
     },
     "execution_count": 43,
     "metadata": {},
     "output_type": "execute_result"
    }
   ],
   "source": [
    "outteams"
   ]
  },
  {
   "cell_type": "code",
   "execution_count": 44,
   "metadata": {},
   "outputs": [],
   "source": [
    "outteams.to_csv(\"teams.csv\")"
   ]
  },
  {
   "cell_type": "code",
   "execution_count": null,
   "metadata": {},
   "outputs": [],
   "source": []
  }
 ],
 "metadata": {
  "kernelspec": {
   "display_name": "datasci",
   "language": "python",
   "name": "python3"
  },
  "language_info": {
   "codemirror_mode": {
    "name": "ipython",
    "version": 3
   },
   "file_extension": ".py",
   "mimetype": "text/x-python",
   "name": "python",
   "nbconvert_exporter": "python",
   "pygments_lexer": "ipython3",
   "version": "3.12.4"
  }
 },
 "nbformat": 4,
 "nbformat_minor": 2
}
