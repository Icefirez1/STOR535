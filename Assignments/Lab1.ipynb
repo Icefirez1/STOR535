{
 "cells": [
  {
   "cell_type": "markdown",
   "id": "3174c61e",
   "metadata": {},
   "source": [
    "# STOR 535: Lab1\n",
    "### Submit the PDF version of this homework to gradescope by Feb 4"
   ]
  },
  {
   "cell_type": "code",
   "execution_count": 2,
   "id": "44cd12cd",
   "metadata": {},
   "outputs": [],
   "source": [
    "import numpy as np\n",
    "import random\n",
    "import math\n",
    "import matplotlib.pyplot as plt"
   ]
  },
  {
   "cell_type": "markdown",
   "id": "f9814c18",
   "metadata": {},
   "source": [
    "### Problem 1 (50 points)\n",
    "\n",
    "\n",
    "- 1.1  Use NumPy  to create a list (e.g., flips) representing one sequence of 100 coin flips.\n",
    "\n",
    "Print out this sequence so you can observe the random pattern of heads ('H') and tails ('T').\n",
    "\n",
    "Set random seed as 1."
   ]
  },
  {
   "cell_type": "code",
   "execution_count": 78,
   "id": "8bc11540",
   "metadata": {},
   "outputs": [
    {
     "data": {
      "text/plain": [
       "array(['T', 'T', 'H', 'H', 'T', 'T', 'T', 'T', 'T', 'H', 'H', 'T', 'H',\n",
       "       'T', 'T', 'H', 'H', 'T', 'H', 'H', 'H', 'T', 'H', 'H', 'T', 'H',\n",
       "       'H', 'H', 'T', 'H', 'H', 'H', 'T', 'T', 'T', 'T', 'T', 'H', 'H',\n",
       "       'H', 'T', 'T', 'T', 'T', 'T', 'T', 'H', 'T', 'T', 'H', 'H', 'T',\n",
       "       'H', 'H', 'T', 'T', 'T', 'H', 'T', 'H', 'H', 'T', 'T', 'H', 'T',\n",
       "       'T', 'T', 'T', 'H', 'H', 'T', 'T', 'H', 'H', 'H', 'H', 'T', 'T',\n",
       "       'T', 'H', 'T', 'H', 'H', 'T', 'T', 'H', 'T', 'T', 'H', 'T', 'H',\n",
       "       'H', 'T', 'T', 'T', 'H', 'T', 'T', 'H', 'T'], dtype='<U1')"
      ]
     },
     "execution_count": 78,
     "metadata": {},
     "output_type": "execute_result"
    }
   ],
   "source": [
    "np.random.seed(1)\n",
    "flips = np.random.choice([\"H\", \"T\"], (1,100))[0]\n",
    "flips"
   ]
  },
  {
   "cell_type": "markdown",
   "id": "e0d445f0",
   "metadata": {},
   "source": [
    "- 1.2 \n",
    "\n",
    "Using the single sequence generated in Part A, check if there is a streak (run) of 5 or more consecutive heads or 5 or more consecutive tails.\n",
    "Print a statement indicating whether or not such a streak was found in that sequence."
   ]
  },
  {
   "cell_type": "code",
   "execution_count": 84,
   "id": "264655eb",
   "metadata": {},
   "outputs": [],
   "source": [
    "def consecutiveString(arr, str, num):\n",
    "    count = 0\n",
    "    for i in arr:\n",
    "\n",
    "        if (i == str):\n",
    "            count += 1\n",
    "        else:\n",
    "            count = 0\n",
    "\n",
    "        if(count >= num):\n",
    "            return True\n",
    "    \n",
    "    return False\n",
    "        "
   ]
  },
  {
   "cell_type": "code",
   "execution_count": 88,
   "id": "495db960",
   "metadata": {},
   "outputs": [
    {
     "name": "stdout",
     "output_type": "stream",
     "text": [
      "Are there a streak of 5 or more heads?\n",
      "False\n",
      "Are there a streak of 5 or more tails?\n",
      "True\n",
      "['T' 'T' 'H' 'H' 'T' 'T' 'T' 'T' 'T' 'H' 'H' 'T' 'H' 'T' 'T' 'H' 'H' 'T'\n",
      " 'H' 'H' 'H' 'T' 'H' 'H' 'T' 'H' 'H' 'H' 'T' 'H' 'H' 'H' 'T' 'T' 'T' 'T'\n",
      " 'T' 'H' 'H' 'H' 'T' 'T' 'T' 'T' 'T' 'T' 'H' 'T' 'T' 'H' 'H' 'T' 'H' 'H'\n",
      " 'T' 'T' 'T' 'H' 'T' 'H' 'H' 'T' 'T' 'H' 'T' 'T' 'T' 'T' 'H' 'H' 'T' 'T'\n",
      " 'H' 'H' 'H' 'H' 'T' 'T' 'T' 'H' 'T' 'H' 'H' 'T' 'T' 'H' 'T' 'T' 'H' 'T'\n",
      " 'H' 'H' 'T' 'T' 'T' 'H' 'T' 'T' 'H' 'T']\n"
     ]
    }
   ],
   "source": [
    "print(\"Are there a streak of 5 or more heads?\")\n",
    "print(consecutiveString(flips, \"H\", 5))\n",
    "print(\"Are there a streak of 5 or more tails?\")\n",
    "print(consecutiveString(flips, \"T\", 5))\n",
    "print(flips)"
   ]
  },
  {
   "cell_type": "markdown",
   "id": "89d0c3d1",
   "metadata": {},
   "source": [
    "- 1.3\n",
    "Estimate the probability of seeing at least one run of 5 identical outcomes in 100 flips by running 10,000 simulations:\n",
    "\n",
    "For each simulation, generate 100 coin flips and check for a run of 5 or more consecutive heads or tails.\n",
    "Count how many trials contain at least one run of length 5 or more.\n",
    "\n",
    "Calculate the fraction of those trials. That fraction is your empirical probability estimate."
   ]
  },
  {
   "cell_type": "code",
   "execution_count": 90,
   "id": "b65a11a4",
   "metadata": {},
   "outputs": [],
   "source": [
    "roundsconsecutive = 0\n",
    "for i in range(10000):\n",
    "    flips = np.random.choice([\"H\", \"T\"], (1,100))[0]\n",
    "    if(consecutiveString(flips, \"H\", 5) or consecutiveString(flips, \"T\", 5)):\n",
    "        roundsconsecutive += 1\n",
    "\n",
    "probability = roundsconsecutive/10000"
   ]
  },
  {
   "cell_type": "markdown",
   "id": "4ab78598",
   "metadata": {},
   "source": [
    "- 1.4\n",
    "\n",
    "Report the probability you found in Part 1.3. Is it larger than 95% or smaller than 95%?"
   ]
  },
  {
   "cell_type": "code",
   "execution_count": 92,
   "id": "24639231",
   "metadata": {},
   "outputs": [
    {
     "name": "stdout",
     "output_type": "stream",
     "text": [
      "The probability is 0.9733\n",
      "It is True that the probability is greater than .95 or 95%\n"
     ]
    }
   ],
   "source": [
    "print(\"The probability is \" + str(probability))\n",
    "print(\"It is \" + str(probability > .95) + \" that the probability is greater than .95 or 95%\")"
   ]
  },
  {
   "cell_type": "markdown",
   "id": "c397c218",
   "metadata": {},
   "source": [
    "- 1.5 Modify the number of coin flips per trial from 100 to an integer 𝑘. Create a line plot to visualize how the probability changes as 𝑘 varies between 10 and 100.\n",
    "\n",
    "x-axis represents the value of 𝑘, 𝑘=10,11,12,...,100.\n",
    "\n",
    "\n",
    "y-axis represents the fraction of trials (out of 10,000 simulations) where at least 5 consecutive Heads or Tails occur.\n",
    "\n",
    "Describe your observations from this plot."
   ]
  },
  {
   "cell_type": "code",
   "execution_count": 93,
   "id": "5e3f2df2",
   "metadata": {},
   "outputs": [],
   "source": [
    "def plotprobabilitymaker(k):\n",
    "    roundsconsecutive = 0\n",
    "    for i in range(10000):\n",
    "        flips = np.random.choice([\"H\", \"T\"], (1,k))[0]\n",
    "        if(consecutiveString(flips, \"H\", 5) or consecutiveString(flips, \"T\", 5)):\n",
    "            roundsconsecutive += 1\n",
    "\n",
    "    return roundsconsecutive/10000"
   ]
  },
  {
   "cell_type": "code",
   "execution_count": 97,
   "id": "235c0fa1",
   "metadata": {},
   "outputs": [],
   "source": [
    "x = np.arange(1, 100)\n",
    "y = [plotprobabilitymaker(i) for i in x]\n"
   ]
  },
  {
   "cell_type": "code",
   "execution_count": 100,
   "id": "edd1c4aa",
   "metadata": {},
   "outputs": [
    {
     "data": {
      "image/png": "[encoded data removed]",
      "text/plain": [
       "<Figure size 640x480 with 1 Axes>"
      ]
     },
     "metadata": {},
     "output_type": "display_data"
    }
   ],
   "source": [
    "plt.plot(x, y)\n",
    "plt.show()"
   ]
  },
  {
   "cell_type": "markdown",
   "id": "c07b434a",
   "metadata": {},
   "source": [
    "## OBSERVATIONS\n",
    "\n",
    "It seems as though that it kind of follows a logarithmic curve. It seems around 20 flips it becomes increasingly apparant that we will have a simulation where we get either 5 heads or 5 tails or both of the situations."
   ]
  },
  {
   "cell_type": "markdown",
   "id": "04659d97",
   "metadata": {},
   "source": [
    "## Problem 2 (20 points)"
   ]
  },
  {
   "cell_type": "markdown",
   "id": "1604617e",
   "metadata": {},
   "source": [
    "A “norepeatword” is a sequence of at least one (and possibly all) of the usual 26 letters a,b,c,. . . ,z, with repetitions not allowed. For example, “course” is a norepeatword, but “statistics” is not. Order matters, e.g., “course” is not the same as “source”.\n",
    "\n",
    "\n",
    "Let $k$ represent the length of the norepeatword."
   ]
  },
  {
   "cell_type": "markdown",
   "id": "a2d7ebfe",
   "metadata": {},
   "source": [
    "- 2.1 For a fixed length fixed length $k=10$, use python to calculate how many norepeatwords are there?"
   ]
  },
  {
   "cell_type": "markdown",
   "id": "aeb26df7",
   "metadata": {},
   "source": [
    "- 2.2 What is the maximum value of $k$?"
   ]
  },
  {
   "cell_type": "markdown",
   "id": "f4fea151",
   "metadata": {},
   "source": [
    "- 2.3 Calculate the total number of norepeatwords for all possible values of $k$."
   ]
  },
  {
   "cell_type": "markdown",
   "id": "c3f960d5",
   "metadata": {},
   "source": [
    "- 2.4 Suppose that a norepeatword is chosen randomly, with all norepeatwords equally likely, i.e., we choose one norepeatword among all norepeatwords “with equal likelihood.” Calculate the probability that the chosen norepeatword has length 26 and uses every letter."
   ]
  },
  {
   "cell_type": "markdown",
   "id": "f3f31729",
   "metadata": {},
   "source": [
    "- 2.5 Calculate the value of $1/e$, where constant $e$ represents the base of the natural logarithm. Calculate the difference between the probability in problem `2.4` and $1/e$. What do you observe? \n",
    "\n",
    "\n",
    "Hint: You can use `math.e` to get the value of $e$.  You can refer to Problem 4 on this [webpage](https://projects.iq.harvard.edu/sites/projects.iq.harvard.edu/files/stat110/files/strategic_practice_and_homework_1.pdf)."
   ]
  },
  {
   "cell_type": "code",
   "execution_count": 110,
   "id": "fefaae9c",
   "metadata": {},
   "outputs": [
    {
     "name": "stdout",
     "output_type": "stream",
     "text": [
      "ALLL MY WORK\n",
      "2.1\n",
      "There would be 19275223968000.0 words\n",
      "2.2\n",
      "The Maximum value of k would be 26 because then letters would repeat\n",
      "2.3\n",
      "There would be 1.0962598503531496e+27 words\n",
      "2.4\n",
      "The probability would be 0.3678794411714423\n",
      "2.5\n",
      "1/e is: 0.36787944117144233\n",
      "The difference between 1/e and 2.4's value is 5.551115123125783e-17\n",
      "We can observe there is a super super small difference between the two values. Which is super cool to see\n"
     ]
    }
   ],
   "source": [
    "print(\"ALLL MY WORK\")\n",
    "print(\"2.1\")\n",
    "print(\"There would be \" + str(math.factorial(26)/(math.factorial(26-10))) + \" words\")\n",
    "print(\"2.2\")\n",
    "print(\"The Maximum value of k would be 26 because then letters would repeat\")\n",
    "print(\"2.3\")\n",
    "totalvals = 0\n",
    "for k in range(1, 27):\n",
    "    totalvals += math.factorial(26)/(math.factorial(26-k))\n",
    "print(\"There would be \" + str(totalvals) + \" words\")\n",
    "print(\"2.4\")\n",
    "print(\"The probability would be \" + str(math.factorial(26)/totalvals))\n",
    "print(\"2.5\")\n",
    "print(\"1/e is: \" + str(1/math.e))\n",
    "print(\"The difference between 1/e and 2.4's value is \" + str(1/math.e - math.factorial(26)/totalvals ))\n",
    "print(\"We can observe there is a super super small difference between the two values. Which is super cool to see\")"
   ]
  },
  {
   "cell_type": "markdown",
   "id": "314972eb",
   "metadata": {},
   "source": [
    "## Problem 3 (15 points)\n",
    "\n",
    "You have a 6-sided die, but it is unbalanced. Instead of each face {1,2,3,4,5,6} having probability $1/6$, the probabilities are `[0.05, 0.1, 0.3, 0.2, 0.05, 0.3]`.\n",
    "\n",
    "\n",
    "- 3.1 Set random seed in numpy as 1, and simulate rolling this unbalanced die 1,000 times. Print out the sequence of these 1000 outcome.\n",
    "- 3.2 Calculate the empirical frequencies of rolling 1,2,3,4,5,6 based on your outcome.\n",
    "\n",
    "- 3.3 Copmare it to the true probability $[0.05, 0.1, 0.3, 0.2, 0.05, 0.3]$. Explain your answers in words."
   ]
  },
  {
   "cell_type": "code",
   "execution_count": 126,
   "id": "39a80209",
   "metadata": {},
   "outputs": [
    {
     "name": "stdout",
     "output_type": "stream",
     "text": [
      "3.1\n",
      "[3 6 1 3 2 2 3 3 3 4 3 5 3 6 1 5 3 4 2 3 6 6 3 5 6 6 2 1 3 6 2 3 6 4 5 3 5\n",
      " 6 1 6 6 6 3 6 2 3 6 3 3 2 1 5 3 3 4 2 4 2 4 5 2 3 5 3 1 4 5 4 6 4 6 2 2 6\n",
      " 3 3 6 3 6 6 6 4 6 3 3 6 3 6 5 4 2 6 3 4 3 3 6 4 1 4 3 4 6 3 6 4 1 6 5 6 3\n",
      " 2 6 5 2 6 6 6 6 2 1 1 1 3 6 4 4 6 2 3 4 6 4 1 6 3 6 3 6 6 4 2 2 2 1 2 3 6\n",
      " 4 1 2 6 4 3 3 6 3 4 6 6 3 4 4 6 3 1 2 4 4 4 3 6 4 3 4 6 5 3 2 3 4 3 6 2 3\n",
      " 6 3 4 4 6 3 2 6 6 6 6 1 3 4 6 6 4 6 4 3 4 4 4 6 6 3 6 3 2 2 4 1 6 6 1 3 3\n",
      " 2 6 3 6 4 6 6 6 4 4 6 3 4 4 1 4 3 6 3 6 4 3 6 4 2 3 5 6 1 6 3 6 4 6 4 4 3\n",
      " 4 6 6 6 5 6 3 5 4 3 3 3 3 4 3 6 5 3 3 3 6 6 6 5 3 3 6 4 6 4 6 4 6 4 4 3 2\n",
      " 3 2 6 3 6 6 5 4 3 4 3 3 4 3 6 6 3 2 3 4 6 3 3 6 3 4 3 2 4 4 3 4 4 5 2 6 3\n",
      " 4 6 1 3 6 6 4 6 6 6 6 2 5 6 4 6 1 6 6 3 3 4 3 6 3 6 6 3 2 6 4 6 4 6 4 4 2\n",
      " 3 1 3 6 1 3 6 5 5 3 3 4 6 3 3 3 6 4 2 4 3 6 3 1 4 6 3 6 4 4 6 6 1 6 4 6 3\n",
      " 3 2 3 2 4 6 5 6 3 6 3 6 4 2 2 1 2 4 2 1 6 3 6 4 4 4 4 6 3 6 1 6 2 4 1 4 1\n",
      " 6 6 6 6 2 3 3 4 6 6 6 6 6 3 3 3 2 6 2 3 6 3 6 3 4 3 6 3 3 4 6 1 6 6 1 4 3\n",
      " 6 4 5 4 4 3 1 4 3 4 6 3 3 3 6 6 6 6 3 2 3 3 3 4 3 6 3 6 3 4 3 2 3 5 4 4 3\n",
      " 4 6 6 4 6 6 4 1 2 2 4 3 6 3 6 6 6 4 5 4 1 3 4 6 4 4 2 1 6 3 6 3 3 4 6 4 2\n",
      " 3 4 5 6 2 1 4 6 1 5 5 3 6 4 1 4 6 6 4 5 4 3 4 5 3 6 3 6 3 6 3 6 3 3 6 3 6\n",
      " 6 3 3 3 2 3 1 2 5 6 2 3 3 6 6 4 3 6 3 6 6 4 2 6 3 3 3 3 2 6 3 4 6 3 4 6 4\n",
      " 4 3 6 6 3 6 2 6 3 3 3 2 6 3 4 4 2 3 2 4 3 3 2 6 2 6 3 4 1 6 3 4 6 2 4 3 6\n",
      " 6 3 6 1 6 4 3 6 6 6 3 1 6 6 6 4 6 6 3 6 6 4 3 5 1 6 6 3 2 3 3 6 4 3 2 3 4\n",
      " 3 4 3 6 3 3 5 3 4 3 4 6 3 6 4 5 2 3 6 4 6 4 4 6 2 4 6 4 3 6 3 6 4 6 4 6 1\n",
      " 6 2 3 6 1 6 6 3 3 6 4 2 6 6 4 6 3 5 3 4 3 6 3 2 2 1 6 4 6 4 6 5 6 3 4 3 3\n",
      " 3 3 3 3 6 3 6 4 3 6 4 3 6 3 3 3 5 3 6 3 4 4 6 6 3 4 6 3 6 3 4 5 3 1 3 6 3\n",
      " 6 3 3 2 6 5 5 3 5 3 3 3 3 2 4 6 4 4 3 2 4 6 3 4 3 4 3 3 3 6 6 3 4 2 4 3 6\n",
      " 5 4 2 4 6 6 4 3 4 4 4 3 4 6 6 4 6 2 6 2 3 3 2 4 1 3 2 6 5 3 3 6 3 6 4 4 1\n",
      " 4 3 3 3 3 4 6 3 6 4 6 3 3 6 1 6 4 3 6 2 4 1 4 3 4 6 6 4 6 6 4 4 3 3 2 6 4\n",
      " 3 6 4 3 3 2 3 1 3 4 6 2 5 4 6 2 2 3 6 3 6 3 3 1 3 3 5 2 3 1 2 5 3 3 4 6 6\n",
      " 5 6 1 2 4 3 6 4 4 6 3 6 3 3 3 4 3 5 2 2 6 3 3 4 4 2 6 6 6 3 4 3 4 6 3 5 3\n",
      " 6]\n",
      "3.2\n",
      "Empiracal Probability for 1 is 0.057\n",
      "Empiracal Probability for 2 is 0.097\n",
      "Empiracal Probability for 3 is 0.292\n",
      "Empiracal Probability for 4 is 0.206\n",
      "Empiracal Probability for 5 is 0.051\n",
      "Empiracal Probability for 6 is 0.297\n",
      "3.3\n",
      "The empiracal probabilities seemed close to the calculated probabilities. \n",
      "For 1 , 4 and 5 it was over and for 2, 3, 6 it was under the calculated probability\n"
     ]
    }
   ],
   "source": [
    "print(3.1)\n",
    "np.random.seed(1)\n",
    "dice = np.random.choice([1,2,3,4,5,6], (1,1000), p=[0.05, 0.1, 0.3, 0.2, 0.05, 0.3])[0]\n",
    "print(dice)\n",
    "print(3.2)\n",
    "unique, counts = np.unique(dice, return_counts=True)\n",
    "nums = dict(zip(unique, counts))\n",
    "for i in range(1, 7):\n",
    "    probability = nums[i]/len(dice)\n",
    "    print(\"Empiracal Probability for \" + str(i)+ \" is \" + str(probability))\n",
    "print(3.3)\n",
    "print(\"The empiracal probabilities seemed close to the calculated probabilities. \\nFor 1 , 4 and 5 it was over and for 2, 3, 6 it was under the calculated probability\")\n"
   ]
  },
  {
   "cell_type": "markdown",
   "id": "ffa22c7e",
   "metadata": {},
   "source": [
    "## Problem 4 (15 points)\n",
    "\n",
    "A knock-out tournament is being held with $2^n$ tennis players. This means that for each round, the winners move on to the next round and the losers are eliminated, until only one person remains. For example, if initially there are $2^4$ = 16 players, then there are 8 games in the first round, then the 8 winners move on to round 2, then the 4 winners move on to round 3, then the 2 winners move on to round 4, the winner of which is declared the winner of the tournament. (There are various systems for determining who plays whom within a round, but these do not matter for this problem.) \n",
    "\n",
    "\n",
    "- 4.1 Suppose there are 32 players. You have a 80% probability of winning each game. What is the probability that you become the champion?\n",
    "\n",
    "- 4.2 Repeat Problem 4.1 but now you have 90% probability of winning each game.\n",
    "\n",
    "- 4.3 Create a line plot where the x-axis represents the probability of winning each game and the y-axis represents the probability of becoming the champion."
   ]
  },
  {
   "cell_type": "code",
   "execution_count": 131,
   "id": "360b7240",
   "metadata": {},
   "outputs": [],
   "source": [
    "def getpredictedwin(numofplayers, winprediction):\n",
    "    rounds = math.log2(numofplayers)\n",
    "    return math.pow(winprediction, rounds)"
   ]
  },
  {
   "cell_type": "code",
   "execution_count": 133,
   "id": "814fd284",
   "metadata": {},
   "outputs": [
    {
     "name": "stdout",
     "output_type": "stream",
     "text": [
      "4.1\n",
      "With 80% probability, to be champion you have probability of 0.3276800000000001\n",
      "4.2\n",
      "With 90% probability, to be champion you have probability of 0.5904900000000001\n"
     ]
    }
   ],
   "source": [
    "print(\"4.1\")\n",
    "print(\"With 80% probability, to be champion you have probability of \" + str(getpredictedwin(32, .8)))\n",
    "print(\"4.2\")\n",
    "print(\"With 90% probability, to be champion you have probability of \" + str(getpredictedwin(32, .9)))"
   ]
  },
  {
   "cell_type": "code",
   "execution_count": 142,
   "id": "70ebeadb",
   "metadata": {},
   "outputs": [
    {
     "name": "stdout",
     "output_type": "stream",
     "text": [
      "4.3\n"
     ]
    },
    {
     "data": {
      "image/png": "[encoded data removed]",
      "text/plain": [
       "<Figure size 640x480 with 1 Axes>"
      ]
     },
     "metadata": {},
     "output_type": "display_data"
    }
   ],
   "source": [
    "print(\"4.3\")\n",
    "x = np.arange(0, 1, .01)\n",
    "y = [getpredictedwin(32, i) for i in x]\n",
    "plt.plot(x, y)\n",
    "plt.show()\n"
   ]
  },
  {
   "cell_type": "code",
   "execution_count": null,
   "id": "accfdd45",
   "metadata": {},
   "outputs": [],
   "source": []
  }
 ],
 "metadata": {
  "hide_input": false,
  "kernelspec": {
   "display_name": "datasci",
   "language": "python",
   "name": "python3"
  },
  "language_info": {
   "codemirror_mode": {
    "name": "ipython",
    "version": 3
   },
   "file_extension": ".py",
   "mimetype": "text/x-python",
   "name": "python",
   "nbconvert_exporter": "python",
   "pygments_lexer": "ipython3",
   "version": "3.12.4"
  }
 },
 "nbformat": 4,
 "nbformat_minor": 5
}
